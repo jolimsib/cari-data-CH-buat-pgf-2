{
 "cells": [
  {
   "cell_type": "code",
   "execution_count": null,
   "id": "29a12a46",
   "metadata": {},
   "outputs": [],
   "source": [
    "import pandas as pd\n",
    "import numpy as np"
   ]
  },
  {
   "cell_type": "code",
   "execution_count": null,
   "id": "042fe12f",
   "metadata": {},
   "outputs": [],
   "source": [
    "df=pd.read_csv(\"SACA_blend_rr/RR_STAID003120a.csv\", header=0)"
   ]
  },
  {
   "cell_type": "code",
   "execution_count": null,
   "id": "8e840923",
   "metadata": {},
   "outputs": [],
   "source": [
    "awal=int(str(df.head(1)[\"    DATE\"].values[0])[:4])"
   ]
  },
  {
   "cell_type": "code",
   "execution_count": null,
   "id": "13727163",
   "metadata": {},
   "outputs": [],
   "source": [
    "akhir=int(str(df.tail(1)[\"    DATE\"].values[0])[:4])"
   ]
  },
  {
   "cell_type": "code",
   "execution_count": null,
   "id": "117569e3",
   "metadata": {},
   "outputs": [],
   "source": [
    "akhir-awal+1"
   ]
  },
  {
   "cell_type": "code",
   "execution_count": null,
   "id": "a7b28c31",
   "metadata": {},
   "outputs": [],
   "source": [
    "np.any(df[\"   RR\"].values == -9999)"
   ]
  },
  {
   "cell_type": "code",
   "execution_count": null,
   "id": "bb85761a",
   "metadata": {},
   "outputs": [],
   "source": [
    "import os\n",
    "\n",
    "files=[f\"SACA_blend_rr/{f}\" for f in os.listdir(\"SACA_blend_rr\") if os.path.isfile(f\"SACA_blend_rr/{f}\")]"
   ]
  },
  {
   "cell_type": "code",
   "execution_count": null,
   "id": "10c9b349",
   "metadata": {},
   "outputs": [],
   "source": [
    "files"
   ]
  },
  {
   "cell_type": "code",
   "execution_count": null,
   "id": "656f5c55",
   "metadata": {},
   "outputs": [],
   "source": [
    "from tqdm import tqdm"
   ]
  },
  {
   "cell_type": "code",
   "execution_count": null,
   "id": "c3db4d04",
   "metadata": {},
   "outputs": [],
   "source": [
    "for file in tqdm(files):\n",
    "    with open(file,'r') as f:\n",
    "        text=f.readlines()\n",
    "    with open(file.replace(\"/\", \"/Bersih/\"),\"w\") as f:\n",
    "        text=text[20:]\n",
    "        f.writelines(text)"
   ]
  },
  {
   "cell_type": "code",
   "execution_count": null,
   "id": "275600d8",
   "metadata": {},
   "outputs": [],
   "source": [
    "files_bersih=[f\"SACA_blend_rr/Bersih/{f}\" for f in os.listdir(\"SACA_blend_rr\") if os.path.isfile(f\"SACA_blend_rr/Bersih/{f}\")]"
   ]
  },
  {
   "cell_type": "code",
   "execution_count": null,
   "id": "0e201e8d",
   "metadata": {},
   "outputs": [],
   "source": [
    "for file in tqdm(files_bersih):\n",
    "    df=pd.read_csv(file, header=0)\n",
    "    awal=int(str(df.head(1)[\"    DATE\"].values[0])[:4])\n",
    "    akhir=int(str(df.tail(1)[\"    DATE\"].values[0])[:4])\n",
    "    busuk=np.any(df[\"   RR\"].values == -9999)\n",
    "    num=int(file[-8:-4])\n",
    "    if akhir-awal+1 < 30 or num in udahada:\n",
    "        continue\n",
    "    print(file, awal, akhir, akhir-awal+1, busuk)"
   ]
  },
  {
   "cell_type": "code",
   "execution_count": null,
   "id": "5bb903df",
   "metadata": {},
   "outputs": [],
   "source": [
    "a=\"\"\"1. Ananda : STAID 1532\n",
    "2. Salma : STAID 2623\n",
    "3. Brenda : STAID 1620\n",
    "4. Dehya : STAID 2018\n",
    "5. Salsabila : STAID 2260\n",
    "6. Lilis : STAID 2398\n",
    "7. Audrey : STAID 2316\n",
    "8. Silfa : STAID 1444\n",
    "9. Azwa: STAID 3094\n",
    "10. Alisha: STAID 3120\n",
    "11. Sadam: STAID  2178\n",
    "12. Pina: STAID 3117\n",
    "13. Shaf : STAID 2680\n",
    "14. Maura: STAID 1489\n",
    "15. Nea: STAID 2112\n",
    "16. Dita: STAID 2318\n",
    "17. Septi : STAID 2664\n",
    "18. Daffa : STAID 2093\n",
    "19. Nadira : STAID 2303\n",
    "20. Razaan : STAID 2183\n",
    "21. Salsa : STAID 2305\n",
    "22. Deva : STAID 530\"\"\"\n",
    "udahada=[int(b.split(\" \")[-1]) for b in a.split(\"\\n\")]"
   ]
  },
  {
   "cell_type": "code",
   "execution_count": null,
   "id": "dbb366ab",
   "metadata": {},
   "outputs": [],
   "source": []
  }
 ],
 "metadata": {
  "kernelspec": {
   "display_name": "Python 3 (ipykernel)",
   "language": "python",
   "name": "python3"
  },
  "language_info": {
   "codemirror_mode": {
    "name": "ipython",
    "version": 3
   },
   "file_extension": ".py",
   "mimetype": "text/x-python",
   "name": "python",
   "nbconvert_exporter": "python",
   "pygments_lexer": "ipython3",
   "version": "3.10.6"
  }
 },
 "nbformat": 4,
 "nbformat_minor": 5
}
